{
  "cells": [
    {
      "cell_type": "markdown",
      "metadata": {
        "id": "ZgULxg_0AuZL"
      },
      "source": [
        "###**Q1**.  Use [Lucidchart](https://sjsu.edu/it/services/applications/lucidchart.php) to create an Entity Relationship Diagram (ERD) for the following tables representing a customer order tracking system:\n",
        "\n",
        "Tables and fields:\n",
        "1. product:\n",
        "    - product_id: INTEGER (Primary key)\n",
        "    - name: TEXT not null\n",
        "    - price: REAL\n",
        "\n",
        "\n",
        "2. customer:\n",
        "    - customer_id: INTEGER (Primary key)\n",
        "    - name: TEXT not null\n",
        "    - email: TEXT not null\n",
        "\n",
        "\n",
        "3. purchase_order:\n",
        "    - order_id: INTEGER (Primary key)\n",
        "    - customer_id: INTEGER (Foreign key)\n",
        "    - date: TEXT not null (\"YYYY-MM-DD\")\n",
        "\n",
        "\n",
        "4. order_item:\n",
        "    - order_id: INTEGER (Foreign key)\n",
        "    - product_id: INTEGER (Foreign key)\n",
        "    - quantity: INTEGER\n",
        "    \n",
        "\n",
        "\n",
        "Export the ERD as PDF and submit it in Canvas."
      ]
    },
    {
      "cell_type": "markdown",
      "metadata": {
        "id": "PZJtgMx7AuZO"
      },
      "source": [
        "###**Q2**. Create SQLite tables and load data\n",
        "1. Here are the csv files for the data for the four tables:\n",
        "   - product: https://raw.githubusercontent.com/csbfx/cs133/main/product.csv\n",
        "   - customer: https://raw.githubusercontent.com/csbfx/cs133/main/customer.csv\n",
        "   - order_item: https://raw.githubusercontent.com/csbfx/cs133/main/order_item.csv\n",
        "   - purchase_order: https://raw.githubusercontent.com/csbfx/cs133/main/purchase_order.csv\n",
        "2. In this notebook, create the database and save it in a file called `store.db`, and create the four tables as described above.\n",
        "3. Load the data in the csv files into the corresponding table.\n",
        "4. Commit so that the data loaded to the tables to officially written to the tables.\n",
        "5. Execute a query SELECT * from each table to make sure the data are properly loaded.\n",
        "6. Execute a query using SELECT statement that queries with JOIN tables to find the purchase date, the products and quantities that a particular customer has purchased."
      ]
    },
    {
      "cell_type": "code",
      "execution_count": null,
      "metadata": {
        "id": "w4xnppG8AuZP",
        "colab": {
          "base_uri": "https://localhost:8080/"
        },
        "outputId": "63360656-763a-4a57-ee8f-81118664700a"
      },
      "outputs": [
        {
          "output_type": "execute_result",
          "data": {
            "text/plain": [
              "<sqlite3.Cursor at 0x7c7b5a150540>"
            ]
          },
          "metadata": {},
          "execution_count": 5
        }
      ],
      "source": [
        "# 2.2 Create the database and save it in a file called store.db, and create the four tables as described above.\n",
        "# Your code here . . .\n",
        "\n",
        "import sqlite3\n",
        "import pandas as pd\n",
        "\n",
        "# Create a SQLite database and connect to it\n",
        "conn = sqlite3.connect('store.db')\n",
        "cursor = conn.cursor()\n",
        "\n",
        "# 2.2 Create the tables\n",
        "cursor.execute('''\n",
        "CREATE TABLE IF NOT EXISTS product (\n",
        "    product_id INTEGER PRIMARY KEY,\n",
        "    name TEXT NOT NULL,\n",
        "    price REAL NOT NULL\n",
        ")\n",
        "''')\n",
        "cursor.execute('''\n",
        "CREATE TABLE IF NOT EXISTS customer (\n",
        "    customer_id INTEGER PRIMARY KEY,\n",
        "    name TEXT NOT NULL,\n",
        "    email TEXT NOT NULL\n",
        ")\n",
        "''')\n",
        "cursor.execute('''\n",
        "CREATE TABLE IF NOT EXISTS purchase_order (\n",
        "    order_id INTEGER PRIMARY KEY,\n",
        "    customer_id INTEGER NOT NULL,\n",
        "    date TEXT NOT NULL,\n",
        "    FOREIGN KEY (customer_id) REFERENCES customer (customer_id)\n",
        ")\n",
        "''')\n",
        "cursor.execute('''\n",
        "CREATE TABLE IF NOT EXISTS order_item (\n",
        "    order_id INTEGER NOT NULL,\n",
        "    product_id INTEGER NOT NULL,\n",
        "    quantity INTEGER NOT NULL,\n",
        "    FOREIGN KEY (order_id) REFERENCES purchase_order (order_id),\n",
        "    FOREIGN KEY (product_id) REFERENCES product (product_id)\n",
        ")\n",
        "''')"
      ]
    },
    {
      "cell_type": "code",
      "source": [
        "# 2.3 Load the data in the csv files into the corresponding table.\n",
        "# Your code here . . .\n",
        "\n",
        "# Product data\n",
        "product_data = [\n",
        "    (0, \"bicycle\", 400),\n",
        "    (1, \"helmet\", 45),\n",
        "    (2, \"gloves\", 23),\n",
        "    (3, \"chain\", 48)\n",
        "]\n",
        "cursor.executemany(\"INSERT INTO product VALUES (?, ?, ?)\", product_data)\n",
        "\n",
        "# Customer data\n",
        "customer_data = [\n",
        "    (0, \"Wendy Lee\", \"wlee@bike.com\"),\n",
        "    (1, \"Jason Brown\", \"jb@speed.com\"),\n",
        "    (2, \"Harry Potter\", \"hp@hogwarts.edu\"),\n",
        "    (3, \"Godric Gryffindor\", \"gg@hogwards.edu\")\n",
        "]\n",
        "cursor.executemany(\"INSERT INTO customer VALUES (?, ?, ?)\", customer_data)\n",
        "\n",
        "# Purchase order data\n",
        "purchase_order_data = [\n",
        "    (0, 0, \"2020-10-19\"),\n",
        "    (1, 0, \"2020-10-20\"),\n",
        "    (2, 1, \"2020-10-20\")\n",
        "]\n",
        "cursor.executemany(\"INSERT INTO purchase_order VALUES (?, ?, ?)\", purchase_order_data)\n",
        "\n",
        "# Order item data\n",
        "order_item_data = [\n",
        "    (0, 0, 1),\n",
        "    (0, 1, 1),\n",
        "    (1, 2, 2),\n",
        "    (1, 3, 1)\n",
        "]\n",
        "cursor.executemany(\"INSERT INTO order_item VALUES (?, ?, ?)\", order_item_data)"
      ],
      "metadata": {
        "id": "WPRhy-dSBY-c",
        "colab": {
          "base_uri": "https://localhost:8080/"
        },
        "outputId": "ce14fc8a-36bf-40c0-a77b-c7f4b83bef74"
      },
      "execution_count": null,
      "outputs": [
        {
          "output_type": "execute_result",
          "data": {
            "text/plain": [
              "<sqlite3.Cursor at 0x7c7b5a150540>"
            ]
          },
          "metadata": {},
          "execution_count": 6
        }
      ]
    },
    {
      "cell_type": "code",
      "source": [
        "# 2.4 Commit so that the data loaded to the tables to officially written to the tables.\n",
        "# Your code here . . .\n",
        "\n",
        "conn.commit()"
      ],
      "metadata": {
        "id": "VIBaGXPABbVO"
      },
      "execution_count": null,
      "outputs": []
    },
    {
      "cell_type": "code",
      "source": [
        "# 2.5 Execute a query SELECT * from each table to make sure the data are properly loaded.\n",
        "# Your code here . . .\n",
        "\n",
        "tables = [\"product\", \"customer\", \"purchase_order\", \"order_item\"]\n",
        "table_data = {}\n",
        "for table in tables:\n",
        "    cursor.execute(f\"SELECT * FROM {table}\")\n",
        "    table_data[table] = cursor.fetchall()"
      ],
      "metadata": {
        "id": "wPHFswfYBgan"
      },
      "execution_count": null,
      "outputs": []
    },
    {
      "cell_type": "code",
      "source": [
        "# 2.6 Execute a query using SELECT statement that queries with JOIN tables to find the purchase date,\n",
        "#    the products and quantities that a particular customer has purchased.\n",
        "# Query 1: ???\n",
        "# Query 2: ???\n",
        "# Your code here . . .\n",
        "\n",
        "query = '''\n",
        "SELECT\n",
        "    customer.name AS customer_name,\n",
        "    purchase_order.date AS purchase_date,\n",
        "    product.name AS product_name,\n",
        "    order_item.quantity\n",
        "FROM customer\n",
        "JOIN purchase_order ON customer.customer_id = purchase_order.customer_id\n",
        "JOIN order_item ON purchase_order.order_id = order_item.order_id\n",
        "JOIN product ON order_item.product_id = product.product_id\n",
        "WHERE customer.name = \"Wendy Lee\"\n",
        "'''\n",
        "cursor.execute(query)\n",
        "purchase_details = cursor.fetchall()"
      ],
      "metadata": {
        "id": "armxZeMPBmSe"
      },
      "execution_count": null,
      "outputs": []
    },
    {
      "cell_type": "code",
      "source": [
        "# Additional tasks\n",
        "# Appending a new row to one of the tables\n",
        "# Deleting row(s) with \"XXX\"\n",
        "\n",
        "conn.close()\n",
        "\n",
        "table_data, purchase_details"
      ],
      "metadata": {
        "id": "h17Hwcs5jvoA",
        "colab": {
          "base_uri": "https://localhost:8080/"
        },
        "outputId": "51e4845c-b8a3-4728-bedb-d531757861b9"
      },
      "execution_count": null,
      "outputs": [
        {
          "output_type": "execute_result",
          "data": {
            "text/plain": [
              "({'product': [(0, 'bicycle', 400.0),\n",
              "   (1, 'helmet', 45.0),\n",
              "   (2, 'gloves', 23.0),\n",
              "   (3, 'chain', 48.0)],\n",
              "  'customer': [(0, 'Wendy Lee', 'wlee@bike.com'),\n",
              "   (1, 'Jason Brown', 'jb@speed.com'),\n",
              "   (2, 'Harry Potter', 'hp@hogwarts.edu'),\n",
              "   (3, 'Godric Gryffindor', 'gg@hogwards.edu')],\n",
              "  'purchase_order': [(0, 0, '2020-10-19'),\n",
              "   (1, 0, '2020-10-20'),\n",
              "   (2, 1, '2020-10-20')],\n",
              "  'order_item': [(0, 0, 1), (0, 1, 1), (1, 2, 2), (1, 3, 1)]},\n",
              " [('Wendy Lee', '2020-10-19', 'bicycle', 1),\n",
              "  ('Wendy Lee', '2020-10-19', 'helmet', 1),\n",
              "  ('Wendy Lee', '2020-10-20', 'gloves', 2),\n",
              "  ('Wendy Lee', '2020-10-20', 'chain', 1)])"
            ]
          },
          "metadata": {},
          "execution_count": 10
        }
      ]
    }
  ],
  "metadata": {
    "kernelspec": {
      "display_name": "Python 3",
      "language": "python",
      "name": "python3"
    },
    "language_info": {
      "codemirror_mode": {
        "name": "ipython",
        "version": 3
      },
      "file_extension": ".py",
      "mimetype": "text/x-python",
      "name": "python",
      "nbconvert_exporter": "python",
      "pygments_lexer": "ipython3",
      "version": "3.7.6"
    },
    "colab": {
      "provenance": []
    }
  },
  "nbformat": 4,
  "nbformat_minor": 0
}