{
  "nbformat": 4,
  "nbformat_minor": 0,
  "metadata": {
    "colab": {
      "provenance": []
    },
    "kernelspec": {
      "name": "python3",
      "display_name": "Python 3"
    },
    "language_info": {
      "name": "python"
    }
  },
  "cells": [
    {
      "cell_type": "code",
      "execution_count": 25,
      "metadata": {
        "id": "9YJmibikjaoQ"
      },
      "outputs": [],
      "source": [
        "# Step 1: Import required libraries\n",
        "import pandas as pd\n",
        "import matplotlib.pyplot as plt"
      ]
    },
    {
      "cell_type": "code",
      "source": [
        "tsvFile = \"https://raw.githubusercontent.com/csbfx/advpy122-data/master/euk.tsv\"\n",
        "euk = pd.read_csv(tsvFile, sep=\"\\t\")\n",
        "print(euk)"
      ],
      "metadata": {
        "colab": {
          "base_uri": "https://localhost:8080/",
          "height": 0
        },
        "id": "flkiAjb_nr2X",
        "outputId": "015b47ea-afea-4257-9630-86f75560e856"
      },
      "execution_count": 26,
      "outputs": [
        {
          "output_type": "stream",
          "name": "stdout",
          "text": [
            "                         Species   Kingdom           Class   Size (Mb)  \\\n",
            "0     Emiliania huxleyi CCMP1516  Protists  Other Protists  167.676000   \n",
            "1           Arabidopsis thaliana    Plants     Land Plants  119.669000   \n",
            "2                    Glycine max    Plants     Land Plants  979.046000   \n",
            "3            Medicago truncatula    Plants     Land Plants  412.924000   \n",
            "4           Solanum lycopersicum    Plants     Land Plants  828.349000   \n",
            "...                          ...       ...             ...         ...   \n",
            "8297    Saccharomyces cerevisiae     Fungi     Ascomycetes    3.993920   \n",
            "8298    Saccharomyces cerevisiae     Fungi     Ascomycetes    0.586761   \n",
            "8299    Saccharomyces cerevisiae     Fungi     Ascomycetes   12.020400   \n",
            "8300    Saccharomyces cerevisiae     Fungi     Ascomycetes   11.960900   \n",
            "8301    Saccharomyces cerevisiae     Fungi     Ascomycetes   11.820700   \n",
            "\n",
            "          GC% Number of genes Number of proteins  Publication year  \\\n",
            "0        64.5           38549              38554              2013   \n",
            "1     36.0529           38311              48265              2001   \n",
            "2     35.1153           59847              71219              2010   \n",
            "3      34.047           37603              41939              2011   \n",
            "4     35.6991           31200              37660              2010   \n",
            "...       ...             ...                ...               ...   \n",
            "8297     38.2               -                  -              2017   \n",
            "8298  38.5921             155                298              1992   \n",
            "8299  38.2971               -                  -              2018   \n",
            "8300  38.2413               -                  -              2018   \n",
            "8301  38.2536               -                  -              2018   \n",
            "\n",
            "     Assembly status  \n",
            "0           Scaffold  \n",
            "1         Chromosome  \n",
            "2         Chromosome  \n",
            "3         Chromosome  \n",
            "4         Chromosome  \n",
            "...              ...  \n",
            "8297        Scaffold  \n",
            "8298      Chromosome  \n",
            "8299      Chromosome  \n",
            "8300      Chromosome  \n",
            "8301      Chromosome  \n",
            "\n",
            "[8302 rows x 9 columns]\n"
          ]
        }
      ]
    },
    {
      "cell_type": "code",
      "source": [
        "\n",
        "# Replace all \"-\" values with NaN across the entire DataFrame\n",
        "euk.replace(\"-\", pd.NA, inplace=True)\n",
        "\n",
        "# Fill NaN values with the previous row's value for each column\n",
        "euk.fillna(method='ffill', inplace=True)\n",
        "\n",
        "# Display the DataFrame after filling\n",
        "print(euk)"
      ],
      "metadata": {
        "colab": {
          "base_uri": "https://localhost:8080/",
          "height": 0
        },
        "id": "vATn7qdPTctK",
        "outputId": "9c3aa5e2-a767-4643-d10b-e5cf2b55a3c3"
      },
      "execution_count": 27,
      "outputs": [
        {
          "output_type": "stream",
          "name": "stdout",
          "text": [
            "                         Species   Kingdom           Class   Size (Mb)  \\\n",
            "0     Emiliania huxleyi CCMP1516  Protists  Other Protists  167.676000   \n",
            "1           Arabidopsis thaliana    Plants     Land Plants  119.669000   \n",
            "2                    Glycine max    Plants     Land Plants  979.046000   \n",
            "3            Medicago truncatula    Plants     Land Plants  412.924000   \n",
            "4           Solanum lycopersicum    Plants     Land Plants  828.349000   \n",
            "...                          ...       ...             ...         ...   \n",
            "8297    Saccharomyces cerevisiae     Fungi     Ascomycetes    3.993920   \n",
            "8298    Saccharomyces cerevisiae     Fungi     Ascomycetes    0.586761   \n",
            "8299    Saccharomyces cerevisiae     Fungi     Ascomycetes   12.020400   \n",
            "8300    Saccharomyces cerevisiae     Fungi     Ascomycetes   11.960900   \n",
            "8301    Saccharomyces cerevisiae     Fungi     Ascomycetes   11.820700   \n",
            "\n",
            "          GC% Number of genes Number of proteins  Publication year  \\\n",
            "0        64.5           38549              38554              2013   \n",
            "1     36.0529           38311              48265              2001   \n",
            "2     35.1153           59847              71219              2010   \n",
            "3      34.047           37603              41939              2011   \n",
            "4     35.6991           31200              37660              2010   \n",
            "...       ...             ...                ...               ...   \n",
            "8297     38.2            5598               5323              2017   \n",
            "8298  38.5921             155                298              1992   \n",
            "8299  38.2971             155                298              2018   \n",
            "8300  38.2413             155                298              2018   \n",
            "8301  38.2536             155                298              2018   \n",
            "\n",
            "     Assembly status  \n",
            "0           Scaffold  \n",
            "1         Chromosome  \n",
            "2         Chromosome  \n",
            "3         Chromosome  \n",
            "4         Chromosome  \n",
            "...              ...  \n",
            "8297        Scaffold  \n",
            "8298      Chromosome  \n",
            "8299      Chromosome  \n",
            "8300      Chromosome  \n",
            "8301      Chromosome  \n",
            "\n",
            "[8302 rows x 9 columns]\n"
          ]
        },
        {
          "output_type": "stream",
          "name": "stderr",
          "text": [
            "<ipython-input-27-f5493c13329d>:5: FutureWarning: DataFrame.fillna with 'method' is deprecated and will raise in a future version. Use obj.ffill() or obj.bfill() instead.\n",
            "  euk.fillna(method='ffill', inplace=True)\n"
          ]
        }
      ]
    },
    {
      "cell_type": "code",
      "source": [
        "# Q1. How many Mammals have at least 20,000 genes? What are their scientific names?\n",
        "\n",
        "# Note:\n",
        "# Mammals are under Class\n",
        "# Scientific names are under Species\n",
        "# CODE = >\n",
        "euk['Number of genes'] = pd.to_numeric(euk['Number of genes'])\n",
        "filtered_data = euk[(euk['Class'] == 'Mammals') & (euk['Number of genes'] >= 20000)]\n",
        "desired_column_data = filtered_data['Species']\n",
        "\n",
        "print(desired_column_data)"
      ],
      "metadata": {
        "colab": {
          "base_uri": "https://localhost:8080/",
          "height": 0
        },
        "id": "9Wgr9kAXnu9H",
        "outputId": "90c54b1e-7eee-4fce-cb6d-fa504dbf7c4e"
      },
      "execution_count": 28,
      "outputs": [
        {
          "output_type": "stream",
          "name": "stdout",
          "text": [
            "44           Homo sapiens\n",
            "45           Mus musculus\n",
            "65      Rattus norvegicus\n",
            "70            Felis catus\n",
            "74             Bos taurus\n",
            "              ...        \n",
            "6781         Mus musculus\n",
            "7486         Homo sapiens\n",
            "7487         Homo sapiens\n",
            "7494         Homo sapiens\n",
            "7495         Homo sapiens\n",
            "Name: Species, Length: 192, dtype: object\n"
          ]
        }
      ]
    },
    {
      "cell_type": "code",
      "source": [
        "# Q2. Animals are a part of Kingdom. How many records are there for each Class of Animals?\n",
        "# CODE =>\n",
        "# Filter the DataFrame for rows where Column1 has the specific value\n",
        "filtered_df = euk[euk['Kingdom'] == 'Animals']\n",
        "\n",
        "# Count the occurrences of each unique value in Column2 for the specific value of Column1\n",
        "count_entries = filtered_df['Class'].value_counts().reset_index()\n",
        "count_entries.columns = ['Class', 'Count']  # Rename columns for clarity\n",
        "\n",
        "# Display the result\n",
        "print(count_entries)"
      ],
      "metadata": {
        "colab": {
          "base_uri": "https://localhost:8080/",
          "height": 0
        },
        "id": "RrXKW__qT4Lm",
        "outputId": "3bccce93-bb08-4dec-8fe6-e6098f6ad023"
      },
      "execution_count": 29,
      "outputs": [
        {
          "output_type": "stream",
          "name": "stdout",
          "text": [
            "           Class  Count\n",
            "0        Mammals    658\n",
            "1        Insects    602\n",
            "2         Fishes    282\n",
            "3  Other Animals    210\n",
            "4          Birds    172\n",
            "5     Roundworms    162\n",
            "6      Flatworms     47\n",
            "7       Reptiles     41\n",
            "8     Amphibians      7\n"
          ]
        }
      ]
    },
    {
      "cell_type": "code",
      "source": [
        "# Q3. Animals are a part of Kingdom. How many unique Species are there for each Class of Animals?\n",
        "# CODE =>\n",
        "\n",
        "# Group by Column2 and count the number of unique values in Column3\n",
        "unique_count = filtered_df.groupby('Class')['Species'].nunique().reset_index()\n",
        "unique_count.columns = ['unique_class_for_animals', 'Unique_Species_foreach_class']\n",
        "\n",
        "# Display the result\n",
        "print(unique_count)"
      ],
      "metadata": {
        "colab": {
          "base_uri": "https://localhost:8080/",
          "height": 0
        },
        "id": "hlm44bSXVxIo",
        "outputId": "4ef7d468-bf82-4437-a73a-089e18c27e94"
      },
      "execution_count": 30,
      "outputs": [
        {
          "output_type": "stream",
          "name": "stdout",
          "text": [
            "  unique_class_for_animals  Unique_Species_foreach_class\n",
            "0               Amphibians                             6\n",
            "1                    Birds                           144\n",
            "2                   Fishes                           218\n",
            "3                Flatworms                            34\n",
            "4                  Insects                           402\n",
            "5                  Mammals                           313\n",
            "6            Other Animals                           171\n",
            "7                 Reptiles                            38\n",
            "8               Roundworms                           116\n"
          ]
        }
      ]
    },
    {
      "cell_type": "code",
      "source": [
        "# Q4. What are the unique scientific names of Mammals with the genus name Macaca?\n",
        "filtered_data = euk[euk['Class'] == 'Mammals']\n",
        "filtered_macaca = filtered_data[filtered_data['Species'].str.contains(r'^Macaca\\s', case=False, na=False)]\n",
        "print(filtered_macaca.Species)"
      ],
      "metadata": {
        "colab": {
          "base_uri": "https://localhost:8080/",
          "height": 0
        },
        "id": "ngDSZErtYNnv",
        "outputId": "f9ba9d03-8306-44f0-d77f-5579f16827ac"
      },
      "execution_count": 31,
      "outputs": [
        {
          "output_type": "stream",
          "name": "stdout",
          "text": [
            "119             Macaca mulatta\n",
            "306        Macaca fascicularis\n",
            "1116         Macaca nemestrina\n",
            "1845    Macaca fuscata fuscata\n",
            "4856       Macaca fascicularis\n",
            "4948            Macaca mulatta\n",
            "5087            Macaca mulatta\n",
            "5152       Macaca fascicularis\n",
            "5646            Macaca mulatta\n",
            "5740            Macaca mulatta\n",
            "5960            Macaca mulatta\n",
            "6027            Macaca mulatta\n",
            "Name: Species, dtype: object\n"
          ]
        }
      ]
    },
    {
      "cell_type": "code",
      "source": [
        "# Q5. Modify the Species names to only contain the scientific names and create a new dataframe.\n",
        "# Code=>\n",
        "# Extract the first two parts of the species name\n",
        "euk['Species_New'] = euk['Species'].str.split().str[0:2].str.join(\" \")\n",
        "\n",
        "# Select the required columns and create a new DataFrame\n",
        "new_dataframe = euk[['Species_New', 'Kingdom', 'Class', 'Size (Mb)','GC%', 'Number of genes', 'Number of proteins','Publication year','Assembly status']]\n",
        "df_species = euk[['Species_New', 'Kingdom', 'Class', 'Size (Mb)', 'Number of genes', 'Number of proteins']]\n",
        "\n",
        "# Display the new DataFrame\n",
        "print(df_species)"
      ],
      "metadata": {
        "colab": {
          "base_uri": "https://localhost:8080/",
          "height": 0
        },
        "id": "A70OT1PqdGIX",
        "outputId": "f8cddf04-1aa3-4bcb-d6dc-adcb759b3c03"
      },
      "execution_count": 32,
      "outputs": [
        {
          "output_type": "stream",
          "name": "stdout",
          "text": [
            "                   Species_New   Kingdom           Class   Size (Mb)  \\\n",
            "0            Emiliania huxleyi  Protists  Other Protists  167.676000   \n",
            "1         Arabidopsis thaliana    Plants     Land Plants  119.669000   \n",
            "2                  Glycine max    Plants     Land Plants  979.046000   \n",
            "3          Medicago truncatula    Plants     Land Plants  412.924000   \n",
            "4         Solanum lycopersicum    Plants     Land Plants  828.349000   \n",
            "...                        ...       ...             ...         ...   \n",
            "8297  Saccharomyces cerevisiae     Fungi     Ascomycetes    3.993920   \n",
            "8298  Saccharomyces cerevisiae     Fungi     Ascomycetes    0.586761   \n",
            "8299  Saccharomyces cerevisiae     Fungi     Ascomycetes   12.020400   \n",
            "8300  Saccharomyces cerevisiae     Fungi     Ascomycetes   11.960900   \n",
            "8301  Saccharomyces cerevisiae     Fungi     Ascomycetes   11.820700   \n",
            "\n",
            "      Number of genes Number of proteins  \n",
            "0               38549              38554  \n",
            "1               38311              48265  \n",
            "2               59847              71219  \n",
            "3               37603              41939  \n",
            "4               31200              37660  \n",
            "...               ...                ...  \n",
            "8297             5598               5323  \n",
            "8298              155                298  \n",
            "8299              155                298  \n",
            "8300              155                298  \n",
            "8301              155                298  \n",
            "\n",
            "[8302 rows x 6 columns]\n"
          ]
        }
      ]
    },
    {
      "cell_type": "code",
      "source": [
        "#Q6. Create a pie plot using pandas to show the number of unique Species in each Class of Animals using the new dataframe you created in Q5\n",
        "\n",
        "print(new_dataframe)\n",
        "# euk['Species_New'] = euk['Species'].str.split().str[0:2].str.join(\" \")\n",
        "filtered_df_new = new_dataframe[new_dataframe['Kingdom'] == 'Animals']\n",
        "\n",
        "unique_count_updated = filtered_df_new.groupby('Class')['Species_New'].nunique().reset_index()\n",
        "unique_count_updated.columns = ['unique_class_for_animals', 'Unique_Species_foreach_class']\n",
        "\n",
        "# Display the result\n",
        "print(unique_count_updated)\n",
        "\n",
        "\n",
        "\n",
        "plt.figure(figsize=(10, 7))\n",
        "unique_count_updated.set_index('unique_class_for_animals')['Unique_Species_foreach_class'].plot.pie(\n",
        "    autopct='%1.1f%%',\n",
        "    startangle=140,\n",
        "    figsize=(10, 7)\n",
        ")\n",
        "plt.title('Number of Unique Species in Each Animal Class')\n",
        "plt.ylabel('')  # Hide the y-label\n",
        "plt.show()"
      ],
      "metadata": {
        "colab": {
          "base_uri": "https://localhost:8080/",
          "height": 1259
        },
        "id": "twjl6-bjgAVj",
        "outputId": "8caa0f15-d0c9-44a8-9c0e-edb14bdc116d"
      },
      "execution_count": 39,
      "outputs": [
        {
          "output_type": "stream",
          "name": "stdout",
          "text": [
            "                   Species_New   Kingdom           Class   Size (Mb)      GC%  \\\n",
            "0            Emiliania huxleyi  Protists  Other Protists  167.676000     64.5   \n",
            "1         Arabidopsis thaliana    Plants     Land Plants  119.669000  36.0529   \n",
            "2                  Glycine max    Plants     Land Plants  979.046000  35.1153   \n",
            "3          Medicago truncatula    Plants     Land Plants  412.924000   34.047   \n",
            "4         Solanum lycopersicum    Plants     Land Plants  828.349000  35.6991   \n",
            "...                        ...       ...             ...         ...      ...   \n",
            "8297  Saccharomyces cerevisiae     Fungi     Ascomycetes    3.993920     38.2   \n",
            "8298  Saccharomyces cerevisiae     Fungi     Ascomycetes    0.586761  38.5921   \n",
            "8299  Saccharomyces cerevisiae     Fungi     Ascomycetes   12.020400  38.2971   \n",
            "8300  Saccharomyces cerevisiae     Fungi     Ascomycetes   11.960900  38.2413   \n",
            "8301  Saccharomyces cerevisiae     Fungi     Ascomycetes   11.820700  38.2536   \n",
            "\n",
            "      Number of genes Number of proteins  Publication year Assembly status  \n",
            "0               38549              38554              2013        Scaffold  \n",
            "1               38311              48265              2001      Chromosome  \n",
            "2               59847              71219              2010      Chromosome  \n",
            "3               37603              41939              2011      Chromosome  \n",
            "4               31200              37660              2010      Chromosome  \n",
            "...               ...                ...               ...             ...  \n",
            "8297             5598               5323              2017        Scaffold  \n",
            "8298              155                298              1992      Chromosome  \n",
            "8299              155                298              2018      Chromosome  \n",
            "8300              155                298              2018      Chromosome  \n",
            "8301              155                298              2018      Chromosome  \n",
            "\n",
            "[8302 rows x 9 columns]\n",
            "  unique_class_for_animals  Unique_Species_foreach_class\n",
            "0               Amphibians                             6\n",
            "1                    Birds                           140\n",
            "2                   Fishes                           217\n",
            "3                Flatworms                            34\n",
            "4                  Insects                           360\n",
            "5                  Mammals                           296\n",
            "6            Other Animals                           169\n",
            "7                 Reptiles                            38\n",
            "8               Roundworms                           111\n"
          ]
        },
        {
          "output_type": "display_data",
          "data": {
            "text/plain": [
              "<Figure size 1000x700 with 1 Axes>"
            ],
            "image/png": "[encoded data removed]"
          },
          "metadata": {}
        }
      ]
    },
    {
      "cell_type": "code",
      "source": [],
      "metadata": {
        "id": "FVNLxZ82kZC0"
      },
      "execution_count": null,
      "outputs": []
    }
  ]
}