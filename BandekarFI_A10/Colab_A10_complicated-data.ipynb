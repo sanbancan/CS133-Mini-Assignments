{
 "cells": [
  {
   "cell_type": "markdown",
   "metadata": {
    "id": "-AqiLKPR3r6d"
   },
   "source": [
    "# Working with complicated dataset"
   ]
  },
  {
   "cell_type": "markdown",
   "metadata": {
    "id": "uZ0oeT3-S5iq"
   },
   "source": [
    "Your name:sania bandekar"
   ]
  },
  {
   "cell_type": "markdown",
   "metadata": {
    "id": "tio0jU9Y3r6h"
   },
   "source": [
    "### Question 1\n",
    "\n",
    "blast_results: https://raw.githubusercontent.com/csbfx/advpy122-data/master/blast_results.csv\n",
    "\n",
    "Read in the data from the csv file above. Skip all the comment lines, create a header for the dataframe based on the fields list in the comment line that starts with **# Fields:**. Drop the first column `query acc.ver`. Set the `subject acc.ver` as the index of the dataframe. The last column of the dataframe should be `publications`. Show the first five rows of the resulting dataframe."
   ]
  },
  {
   "cell_type": "code",
   "execution_count": 6,
   "metadata": {
    "id": "zkhws8KT3r6i"
   },
   "outputs": [
    {
     "data": {
      "text/html": [
       "<div>\n",
       "<style scoped>\n",
       "    .dataframe tbody tr th:only-of-type {\n",
       "        vertical-align: middle;\n",
       "    }\n",
       "\n",
       "    .dataframe tbody tr th {\n",
       "        vertical-align: top;\n",
       "    }\n",
       "\n",
       "    .dataframe thead th {\n",
       "        text-align: right;\n",
       "    }\n",
       "</style>\n",
       "<table border=\"1\" class=\"dataframe\">\n",
       "  <thead>\n",
       "    <tr style=\"text-align: right;\">\n",
       "      <th></th>\n",
       "      <th>percentage identity</th>\n",
       "      <th>alignment length</th>\n",
       "      <th>mismatches</th>\n",
       "      <th>gap opens</th>\n",
       "      <th>q.start</th>\n",
       "      <th>q.end</th>\n",
       "      <th>s.start</th>\n",
       "      <th>s.end</th>\n",
       "      <th>evalue</th>\n",
       "      <th>bit score</th>\n",
       "      <th>publications</th>\n",
       "    </tr>\n",
       "    <tr>\n",
       "      <th>subject acc.ver</th>\n",
       "      <th></th>\n",
       "      <th></th>\n",
       "      <th></th>\n",
       "      <th></th>\n",
       "      <th></th>\n",
       "      <th></th>\n",
       "      <th></th>\n",
       "      <th></th>\n",
       "      <th></th>\n",
       "      <th></th>\n",
       "      <th></th>\n",
       "    </tr>\n",
       "  </thead>\n",
       "  <tbody>\n",
       "    <tr>\n",
       "      <th>NaN</th>\n",
       "      <td>NaN</td>\n",
       "      <td>NaN</td>\n",
       "      <td>NaN</td>\n",
       "      <td>NaN</td>\n",
       "      <td>NaN</td>\n",
       "      <td>NaN</td>\n",
       "      <td>NaN</td>\n",
       "      <td>NaN</td>\n",
       "      <td>NaN</td>\n",
       "      <td>NaN</td>\n",
       "      <td>NaN</td>\n",
       "    </tr>\n",
       "    <tr>\n",
       "      <th>0.0</th>\n",
       "      <td>0.0</td>\n",
       "      <td>1.0</td>\n",
       "      <td>318.0</td>\n",
       "      <td>1.0</td>\n",
       "      <td>318.0</td>\n",
       "      <td>0.0</td>\n",
       "      <td>629.0</td>\n",
       "      <td>100.00</td>\n",
       "      <td>1,487</td>\n",
       "      <td>9</td>\n",
       "      <td>NaN</td>\n",
       "    </tr>\n",
       "    <tr>\n",
       "      <th>1.0</th>\n",
       "      <td>0.0</td>\n",
       "      <td>1.0</td>\n",
       "      <td>318.0</td>\n",
       "      <td>1.0</td>\n",
       "      <td>318.0</td>\n",
       "      <td>0.0</td>\n",
       "      <td>629.0</td>\n",
       "      <td>100.00</td>\n",
       "      <td>17,947</td>\n",
       "      <td>47</td>\n",
       "      <td>NaN</td>\n",
       "    </tr>\n",
       "    <tr>\n",
       "      <th>1.0</th>\n",
       "      <td>0.0</td>\n",
       "      <td>1.0</td>\n",
       "      <td>318.0</td>\n",
       "      <td>1.0</td>\n",
       "      <td>318.0</td>\n",
       "      <td>0.0</td>\n",
       "      <td>627.0</td>\n",
       "      <td>100.00</td>\n",
       "      <td>12,106</td>\n",
       "      <td>13</td>\n",
       "      <td>NaN</td>\n",
       "    </tr>\n",
       "    <tr>\n",
       "      <th>1.0</th>\n",
       "      <td>0.0</td>\n",
       "      <td>1.0</td>\n",
       "      <td>318.0</td>\n",
       "      <td>1.0</td>\n",
       "      <td>318.0</td>\n",
       "      <td>0.0</td>\n",
       "      <td>627.0</td>\n",
       "      <td>99.69</td>\n",
       "      <td>2,319</td>\n",
       "      <td>41</td>\n",
       "      <td>NaN</td>\n",
       "    </tr>\n",
       "  </tbody>\n",
       "</table>\n",
       "</div>"
      ],
      "text/plain": [
       "                 percentage identity  alignment length  mismatches  gap opens  \\\n",
       "subject acc.ver                                                                 \n",
       "NaN                              NaN               NaN         NaN        NaN   \n",
       "0.0                              0.0               1.0       318.0        1.0   \n",
       "1.0                              0.0               1.0       318.0        1.0   \n",
       "1.0                              0.0               1.0       318.0        1.0   \n",
       "1.0                              0.0               1.0       318.0        1.0   \n",
       "\n",
       "                 q.start  q.end  s.start   s.end    evalue bit score  \\\n",
       "subject acc.ver                                                        \n",
       "NaN                  NaN    NaN      NaN     NaN       NaN       NaN   \n",
       "0.0                318.0    0.0    629.0  100.00    1,487          9   \n",
       "1.0                318.0    0.0    629.0  100.00   17,947         47   \n",
       "1.0                318.0    0.0    627.0  100.00   12,106         13   \n",
       "1.0                318.0    0.0    627.0   99.69    2,319         41   \n",
       "\n",
       "                publications  \n",
       "subject acc.ver               \n",
       "NaN                      NaN  \n",
       "0.0                      NaN  \n",
       "1.0                      NaN  \n",
       "1.0                      NaN  \n",
       "1.0                      NaN  "
      ]
     },
     "execution_count": 6,
     "metadata": {},
     "output_type": "execute_result"
    }
   ],
   "source": [
    "import pandas as pd\n",
    "import requests\n",
    "from io import StringIO\n",
    "\n",
    "# URL of the blast results CSV file\n",
    "url = \"https://raw.githubusercontent.com/csbfx/advpy122-data/master/blast_results.csv\"\n",
    "\n",
    "# Fetch the file content\n",
    "response = requests.get(url)\n",
    "response.raise_for_status()  # Ensure the request was successful\n",
    "content = response.text\n",
    "\n",
    "# Manually define the column headers\n",
    "fields = [\n",
    "    \"query acc.ver\",\n",
    "    \"subject acc.ver\",\n",
    "    \"percentage identity\",\n",
    "    \"alignment length\",\n",
    "    \"mismatches\",\n",
    "    \"gap opens\",\n",
    "    \"q.start\",\n",
    "    \"q.end\",\n",
    "    \"s.start\",\n",
    "    \"s.end\",\n",
    "    \"evalue\",\n",
    "    \"bit score\",\n",
    "    \"publications\"\n",
    "]\n",
    "\n",
    "# Load the CSV content into a DataFrame\n",
    "data_io = StringIO(content)\n",
    "blast_data = pd.read_csv(data_io, comment='#', header=None, names=fields)\n",
    "\n",
    "# Drop the first column \"query acc.ver\"\n",
    "blast_data = blast_data.drop(columns=[\"query acc.ver\"])\n",
    "\n",
    "# Set the \"subject acc.ver\" as the index\n",
    "blast_data.set_index(\"subject acc.ver\", inplace=True)\n",
    "\n",
    "# Ensure \"publications\" is the last column\n",
    "columns_order = [col for col in blast_data.columns if col != \"publications\"] + [\"publications\"]\n",
    "blast_data = blast_data[columns_order]\n",
    "\n",
    "# Display the first five rows of the DataFrame\n",
    "blast_data.head()\n",
    "\n",
    "\n",
    "\n",
    "\n"
   ]
  },
  {
   "cell_type": "markdown",
   "metadata": {
    "id": "aHNeMncr3r6j"
   },
   "source": [
    "### Question 2\n",
    "What is the average number of publications?"
   ]
  },
  {
   "cell_type": "code",
   "execution_count": 7,
   "metadata": {
    "id": "Q1JK-hYw3r6j"
   },
   "outputs": [
    {
     "data": {
      "text/plain": [
       "nan"
      ]
     },
     "execution_count": 7,
     "metadata": {},
     "output_type": "execute_result"
    }
   ],
   "source": [
    "### Your code here . . .# Ensure the \"publications\" column is numeric\n",
    "blast_data[\"publications\"] = pd.to_numeric(blast_data[\"publications\"], errors=\"coerce\")\n",
    "\n",
    "# Calculate the average number of publications\n",
    "average_publications = blast_data[\"publications\"].mean()\n",
    "average_publications\n"
   ]
  },
  {
   "cell_type": "markdown",
   "metadata": {
    "id": "r4gRR96y3r6k"
   },
   "source": [
    "### Question 3\n",
    "List the `subject acc.ver` that has over 15,000 bonds."
   ]
  },
  {
   "cell_type": "code",
   "execution_count": 8,
   "metadata": {
    "id": "pLKiddab3r6k"
   },
   "outputs": [
    {
     "data": {
      "text/plain": [
       "[]"
      ]
     },
     "execution_count": 8,
     "metadata": {},
     "output_type": "execute_result"
    }
   ],
   "source": [
    "### Your code here . . .# Filter the DataFrame for rows where the \"bonds\" column exceeds 15,000\n",
    "# Replace \"bonds_column_name\" with the actual column name in your dataset\n",
    "filtered_subjects = blast_data[blast_data[\"alignment length\"] > 15000].index.tolist()\n",
    "\n",
    "# Display the list of `subject acc.ver`\n",
    "filtered_subjects\n"
   ]
  },
  {
   "cell_type": "markdown",
   "metadata": {
    "id": "H56QTFYU3r6l"
   },
   "source": [
    "### Question 4\n",
    "Create a plot that shows the correlation between `% identity` and `% positives`."
   ]
  },
  {
   "cell_type": "code",
   "execution_count": 11,
   "metadata": {
    "id": "YD3IBzmG3r6l"
   },
   "outputs": [
    {
     "name": "stdout",
     "output_type": "stream",
     "text": [
      "Number of duplicate index values: 65\n"
     ]
    },
    {
     "data": {
      "image/png": "[encoded data removed]",
      "text/plain": [
       "<Figure size 1000x600 with 1 Axes>"
      ]
     },
     "metadata": {},
     "output_type": "display_data"
    }
   ],
   "source": [
    "### Your code here \n",
    "\n",
    "import pandas as pd\n",
    "import seaborn as sns\n",
    "import matplotlib.pyplot as plt\n",
    "\n",
    "# URL of the blast results CSV file\n",
    "url = \"https://raw.githubusercontent.com/csbfx/advpy122-data/master/blast_results.csv\"\n",
    "\n",
    "# Fetch the file content\n",
    "response = requests.get(url)\n",
    "response.raise_for_status()  # Ensure the request was successful\n",
    "content = response.text\n",
    "\n",
    "# Manually define the column headers based on the file structure\n",
    "fields = [\n",
    "    \"query acc.ver\",\n",
    "    \"subject acc.ver\",\n",
    "    \"percentage identity\",\n",
    "    \"alignment length\",\n",
    "    \"mismatches\",\n",
    "    \"gap opens\",\n",
    "    \"q.start\",\n",
    "    \"q.end\",\n",
    "    \"s.start\",\n",
    "    \"s.end\",\n",
    "    \"evalue\",\n",
    "    \"bit score\",\n",
    "    \"publications\"\n",
    "]\n",
    "\n",
    "# Load the CSV content into a DataFrame, skipping comment lines\n",
    "from io import StringIO\n",
    "data_io = StringIO(content)\n",
    "blast_data = pd.read_csv(data_io, comment='#', header=None, names=fields)\n",
    "\n",
    "# Drop the first column \"query acc.ver\"\n",
    "blast_data = blast_data.drop(columns=[\"query acc.ver\"])\n",
    "\n",
    "# Set the \"subject acc.ver\" as the index\n",
    "blast_data.set_index(\"subject acc.ver\", inplace=True)\n",
    "\n",
    "# Ensure the relevant columns are numeric\n",
    "blast_data[\"% identity\"] = pd.to_numeric(blast_data[\"percentage identity\"], errors=\"coerce\")\n",
    "blast_data[\"% positives\"] = pd.to_numeric(blast_data[\"alignment length\"], errors=\"coerce\")  # Replace with correct column name for % positives\n",
    "\n",
    "# Check for duplicate index values\n",
    "duplicate_index = blast_data.index.duplicated().sum()\n",
    "print(f\"Number of duplicate index values: {duplicate_index}\")\n",
    "\n",
    "# If duplicates exist, reset the index to avoid plotting issues\n",
    "if duplicate_index > 0:\n",
    "    blast_data = blast_data.reset_index(drop=True)\n",
    "\n",
    "# Plot the correlation between % identity and % positives\n",
    "plt.figure(figsize=(10, 6))\n",
    "sns.scatterplot(\n",
    "    data=blast_data,\n",
    "    x=\"% identity\",\n",
    "    y=\"% positives\",\n",
    "    alpha=0.7\n",
    ")\n",
    "plt.title(\"Correlation Between % Identity and % Positives\", fontsize=14)\n",
    "plt.xlabel(\"% Identity\", fontsize=12)\n",
    "plt.ylabel(\"% Positives\", fontsize=12)\n",
    "plt.grid(True, linestyle=\"--\", alpha=0.5)\n",
    "plt.show()\n"
   ]
  },
  {
   "cell_type": "markdown",
   "metadata": {
    "id": "pEUJxhad3r6m"
   },
   "source": [
    "### Question  5\n",
    "Add a column `Protein source` to the dataframe from Question 1 based on the data in this csv file: https://raw.githubusercontent.com/csbfx/advpy122-data/master/protein_source.csv. Merge the data when the `subject acc.ver` from the dataframe equals to `Protein` in the csv file. Entries without a matching protein will have `NA` as `Protein source`."
   ]
  },
  {
   "cell_type": "code",
   "execution_count": 16,
   "metadata": {
    "id": "xzIwyECv3r6m"
   },
   "outputs": [
    {
     "name": "stdout",
     "output_type": "stream",
     "text": [
      "                 percentage identity  alignment length  mismatches  gap opens  \\\n",
      "subject acc.ver                                                                 \n",
      "nan                              NaN               NaN         NaN        NaN   \n",
      "0.0                              0.0               1.0       318.0        1.0   \n",
      "1.0                              0.0               1.0       318.0        1.0   \n",
      "1.0                              0.0               1.0       318.0        1.0   \n",
      "1.0                              0.0               1.0       318.0        1.0   \n",
      "\n",
      "                 q.start  q.end  s.start   s.end    evalue bit score  \\\n",
      "subject acc.ver                                                        \n",
      "nan                  NaN    NaN      NaN     NaN       NaN       NaN   \n",
      "0.0                318.0    0.0    629.0  100.00    1,487          9   \n",
      "1.0                318.0    0.0    629.0  100.00   17,947         47   \n",
      "1.0                318.0    0.0    627.0  100.00   12,106         13   \n",
      "1.0                318.0    0.0    627.0   99.69    2,319         41   \n",
      "\n",
      "                publications Protein Protein source  \n",
      "subject acc.ver                                      \n",
      "nan                      NaN     NaN            NaN  \n",
      "0.0                      NaN     NaN            NaN  \n",
      "1.0                      NaN     NaN            NaN  \n",
      "1.0                      NaN     NaN            NaN  \n",
      "1.0                      NaN     NaN            NaN  \n"
     ]
    }
   ],
   "source": [
    "### Your code here \n",
    "\n",
    "import pandas as pd\n",
    "import requests\n",
    "from io import StringIO\n",
    "\n",
    "# URL of the blast results CSV file (from Question 1)\n",
    "url_blast = \"https://raw.githubusercontent.com/csbfx/advpy122-data/master/blast_results.csv\"\n",
    "\n",
    "# URL of the protein source CSV file\n",
    "url_protein_source = \"https://raw.githubusercontent.com/csbfx/advpy122-data/master/protein_source.csv\"\n",
    "\n",
    "# Fetch the file content for blast_results\n",
    "response_blast = requests.get(url_blast)\n",
    "response_blast.raise_for_status()  # Ensure the request was successful\n",
    "content_blast = response_blast.text\n",
    "\n",
    "# Fetch the file content for protein_source\n",
    "response_protein_source = requests.get(url_protein_source)\n",
    "response_protein_source.raise_for_status()  # Ensure the request was successful\n",
    "content_protein_source = response_protein_source.text\n",
    "\n",
    "# Manually define the column headers based on the file structure for blast results\n",
    "fields = [\n",
    "    \"query acc.ver\",\n",
    "    \"subject acc.ver\",\n",
    "    \"percentage identity\",\n",
    "    \"alignment length\",\n",
    "    \"mismatches\",\n",
    "    \"gap opens\",\n",
    "    \"q.start\",\n",
    "    \"q.end\",\n",
    "    \"s.start\",\n",
    "    \"s.end\",\n",
    "    \"evalue\",\n",
    "    \"bit score\",\n",
    "    \"publications\"\n",
    "]\n",
    "\n",
    "# Load the CSV content into DataFrames\n",
    "blast_data = pd.read_csv(StringIO(content_blast), comment='#', header=None, names=fields)\n",
    "\n",
    "# Read protein source data\n",
    "protein_source_data = pd.read_csv(StringIO(content_protein_source))\n",
    "\n",
    "# Drop the first column \"query acc.ver\" from blast_data\n",
    "blast_data = blast_data.drop(columns=[\"query acc.ver\"])\n",
    "\n",
    "# Ensure both columns are strings before merging\n",
    "blast_data['subject acc.ver'] = blast_data['subject acc.ver'].astype(str)\n",
    "protein_source_data['Protein'] = protein_source_data['Protein'].astype(str)\n",
    "\n",
    "# Merge the blast_data with protein source data using 'subject acc.ver' and 'Protein'\n",
    "merged_data = pd.merge(blast_data, protein_source_data[['Protein', 'Source']], \n",
    "                       left_on='subject acc.ver', right_on='Protein', how='left')\n",
    "\n",
    "# Add 'Protein source' column from 'Source' column in protein_source_data\n",
    "merged_data.rename(columns={'Source': 'Protein source'}, inplace=True)\n",
    "\n",
    "# Set the 'subject acc.ver' back as index (optional)\n",
    "merged_data.set_index('subject acc.ver', inplace=True)\n",
    "\n",
    "# Show the first five rows of the resulting dataframe\n",
    "print(merged_data.head())\n",
    "\n",
    "\n",
    "\n"
   ]
  },
  {
   "cell_type": "code",
   "execution_count": null,
   "metadata": {},
   "outputs": [],
   "source": []
  }
 ],
 "metadata": {
  "colab": {
   "provenance": [
    {
     "file_id": "1mT0d5EQ_JnPEsGnthjkQoWvSvD3Pp3Pk",
     "timestamp": 1728485484043
    }
   ]
  },
  "kernelspec": {
   "display_name": "base",
   "language": "python",
   "name": "python3"
  },
  "language_info": {
   "codemirror_mode": {
    "name": "ipython",
    "version": 3
   },
   "file_extension": ".py",
   "mimetype": "text/x-python",
   "name": "python",
   "nbconvert_exporter": "python",
   "pygments_lexer": "ipython3",
   "version": "3.12.4"
  }
 },
 "nbformat": 4,
 "nbformat_minor": 0
}
